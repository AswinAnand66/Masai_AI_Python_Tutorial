{
  "nbformat": 4,
  "nbformat_minor": 0,
  "metadata": {
    "colab": {
      "provenance": [],
      "include_colab_link": true
    },
    "kernelspec": {
      "name": "python3",
      "display_name": "Python 3"
    },
    "language_info": {
      "name": "python"
    }
  },
  "cells": [
    {
      "cell_type": "markdown",
      "metadata": {
        "id": "view-in-github",
        "colab_type": "text"
      },
      "source": [
        "<a href=\"https://colab.research.google.com/github/AswinAnand66/Masai_AI_Python_Tutorial/blob/main/Masai_Tutorials.ipynb\" target=\"_parent\"><img src=\"https://colab.research.google.com/assets/colab-badge.svg\" alt=\"Open In Colab\"/></a>"
      ]
    },
    {
      "cell_type": "markdown",
      "source": [
        "# Week 1 - L1\n",
        "\n",
        "12 August 2024"
      ],
      "metadata": {
        "id": "75P8bP0MSUsR"
      }
    },
    {
      "cell_type": "code",
      "execution_count": null,
      "metadata": {
        "id": "qpOnMWS484y4"
      },
      "outputs": [],
      "source": [
        "# Question: You are given a variable date_string containing a date in the format \"YYYY-MM-DD\".\n",
        "# Write a function is_leap_year(date_string) that returns True if the year in the date is a leap year, and False otherwise.\n",
        "\n",
        "# Leap Year\n",
        "# Rule 1 - Year must be divisible by 4\n",
        "# Rule 2 - If year is divisible by 100, then it should also be divisible by 400\n",
        "\n",
        "# 2024 - Leap year\n",
        "# 2100, 2200, 2300 - not leap years\n",
        "# 2400 - Leap year\n",
        "\n",
        "#input\n",
        "date_string = \"2024-02-12\"\n",
        "\n",
        "def is_leap_year(date_string):\n",
        "  year = int(date_string[:4])\n",
        "\n",
        "  if (year % 4 == 0 and year % 100 != 0) or year % 400 == 0:\n",
        "    return True\n",
        "  else:\n",
        "    return False\n",
        "\n",
        "print(is_leap_year(date_string))\n",
        "\n",
        "\n",
        "#This is an extension part, not part of your L1 question\n",
        "def days_in_a_year(date_string):\n",
        "  if is_leap_year(date_string) == True:\n",
        "    return 366\n",
        "  else:\n",
        "    return 365\n",
        "\n",
        "print(days_in_a_year(date_string))\n",
        "\n",
        "def days_in_a_month(date_string):\n",
        "  month = int(date_string[5:7])\n",
        "  if month in [1, 3, 5, 7, 8, 10, 12]:\n",
        "    return 31\n",
        "  elif month in [4, 6, 9, 11]:\n",
        "    return 30\n",
        "  else:\n",
        "     if is_leap_year(date_string) == True:\n",
        "      return 29\n",
        "     else:\n",
        "      return 28\n",
        "\n",
        "print(days_in_a_month(date_string))\n",
        "\n"
      ]
    },
    {
      "cell_type": "code",
      "source": [],
      "metadata": {
        "id": "0kq78f9CQJO4"
      },
      "execution_count": null,
      "outputs": []
    },
    {
      "cell_type": "code",
      "source": [
        "'''Question: You have a list numbers containing integers.\n",
        "Write a function find_missing_number(numbers) that finds the missing number in the list.\n",
        "The list contains all the integers from 1 to n except for one missing number.\n",
        "Assume the list is sorted.'''\n",
        "\n",
        "numbers = [1, 2, 3, 4, 5, 6, 7, 8, 10]\n",
        "\n",
        "def find_missing_number(numbers):\n",
        "  n = len(numbers)+1\n",
        "  expected_sum = n * (n+1) // 2\n",
        "  actual_sum = sum(numbers)\n",
        "\n",
        "  return expected_sum - actual_sum\n",
        "\n",
        "print(find_missing_number(numbers))\n",
        "\n"
      ],
      "metadata": {
        "id": "1VTfIxj7JlnX"
      },
      "execution_count": null,
      "outputs": []
    },
    {
      "cell_type": "markdown",
      "source": [
        "# Week 1 - L2\n",
        "\n",
        "13 August 2024"
      ],
      "metadata": {
        "id": "BB9zOyPzShzG"
      }
    },
    {
      "cell_type": "code",
      "source": [
        "'''Alex, an experienced programmer, received a new challenge to enhance the dimensions of calculator.\n",
        "This advanced version needs to handle complex arithmetic expressions, including nested parentheses\n",
        "and respect the order of operations.\n",
        "\n",
        "Alex created a calculator that processes expressions with:\n",
        "\n",
        "Parentheses: Handles arithmetic within parentheses.\n",
        "Operator Precedence: Respects mathematical order of operations\n",
        "(e.g., multiplication before addition).\n",
        "\n",
        "Expression: \"5 plus ( 3 times 2 )\"\n",
        "Converted Expression: \"5 + ( 3 * 2 )\"\n",
        "Result: 11.0\n",
        "\n",
        "Expression: \"100 minus ( 45 divided by 9 ) \"\n",
        "Converted Expression: \"100 - ( 45 / 9 ) \"\n",
        "Result: 95.0\n",
        "\n",
        "Expression: \"12 times ( 3 plus 2 )\"\n",
        "Converted Expression: \"12 * ( 3 + 2 )\"\n",
        "Result: 60.0\n",
        "\n",
        "Expression: \"81 divided by ( 9 minus 2 )\"\n",
        "Converted Expression: \"81 / ( 9 - 2 )\"\n",
        "Result: 11.571428571428571\n",
        "'''"
      ],
      "metadata": {
        "id": "K6dnFIBdDfS4"
      },
      "execution_count": null,
      "outputs": []
    },
    {
      "cell_type": "code",
      "source": [
        "# Function to evaluate a given expression\n",
        "def evaluate(expression):\n",
        "  # Seperate out entitites of the expression\n",
        "  words = expression.split()\n",
        "  #split(\"5 plus ( 3 times 2 )\") = ['5', 'plus', '(', '3', 'times', '2', ')']\n",
        "\n",
        "#Initialize lists for operators and values\n",
        "  operators = []\n",
        "  values = []\n",
        "\n",
        "#Write a function to apply the operator and evaluate the expression\n",
        "  def apply_operator():\n",
        "    operator = operators.pop()\n",
        "    rvalue = values.pop()\n",
        "    lvalue = values.pop()\n",
        "\n",
        "\n",
        "    if operator == '+':\n",
        "      values.append(lvalue + rvalue)\n",
        "    elif operator == '-':\n",
        "      values.append(lvalue - rvalue)\n",
        "    elif operator == '*':\n",
        "      values.append(lvalue * rvalue)\n",
        "    elif operator == '/':\n",
        "      values.append(lvalue / rvalue)\n",
        "\n",
        "\n",
        "  #Loop through each word in words and store it in corresponding lists\n",
        "  i = 0\n",
        "  while i < len(words):\n",
        "    word = words[i]\n",
        "\n",
        "    if word.isdigit():\n",
        "      values.append(float(word))\n",
        "\n",
        "    elif word == 'plus':\n",
        "      operators.append('+')\n",
        "    elif word == 'minus':\n",
        "      operators.append('-')\n",
        "    elif word == 'times':\n",
        "      operators.append('*')\n",
        "    elif word == 'divided':\n",
        "      operators.append('/')\n",
        "      i = i + 1 # skip the word \"by\" after \"divided\"\n",
        "\n",
        "    elif word == '(':\n",
        "      operators.append('(')\n",
        "\n",
        "    elif word == ')':\n",
        "      # Evaluate your expression until ( parenthesis\n",
        "      while operators and operators[-1] != '(':\n",
        "        apply_operator()\n",
        "      operators.pop()\n",
        "\n",
        "    i = i + 1\n",
        "\n",
        "  while operators:\n",
        "    apply_operator()\n",
        "\n",
        "  return values[0]\n",
        "\n",
        "#Testing\n",
        "\n",
        "expressions = [\n",
        "    \"5 plus ( 3 times 2 )\",\n",
        "    \"100 minus ( 45 divided by 9 )\",\n",
        "    \"12 times ( 3 plus 2 )\",\n",
        "    \"81 divided by ( 9 minus 2 )\"\n",
        "]\n",
        "\n",
        "for expr in expressions:\n",
        "  result = evaluate(expr)\n",
        "  print(\"Expression: \", expr)\n",
        "  print(\"Result: \", result)\n"
      ],
      "metadata": {
        "id": "UoXhx3bBM1W_"
      },
      "execution_count": null,
      "outputs": []
    },
    {
      "cell_type": "markdown",
      "source": [
        "# Week 2 - L1\n",
        "\n",
        "19 August 2024"
      ],
      "metadata": {
        "id": "exrMV2zqSnI5"
      }
    },
    {
      "cell_type": "code",
      "source": [
        "# \"The quick brown fox jumps over the lazy dog\"\n",
        "# \"Pack my box with five dozen liquor jugs\"\n",
        "\n",
        "\n",
        "# readlines()\n",
        "\n",
        "'''Question: You are given a list of strings lines, where each element in the list represents a line from a text file.\n",
        "Write a function get_most_frequent_word(lines) that returns the most frequent word in the list, ignoring case and punctuation.\n",
        "If the list is empty or contains no valid words, return an appropriate message.\n",
        "\n",
        "Input:\n",
        "lines = [\n",
        "    \"The quick brown fox jumps over the lazy dog.\",\n",
        "    \"The quick brown fox is quick.\",\n",
        "    \"Lazy dogs are not quick.\"\n",
        "]'''\n",
        "\n",
        "# Returns the most frequent word among a list of lines\n",
        "def get_most_frequent_word(lines):\n",
        "  if not lines:\n",
        "    return \"There are no lines\"\n",
        "\n",
        "  word_frequency = {}\n",
        "  for line in lines:\n",
        "    cleaned_line = ''.join(char.lower() if char.isalnum() or char.isspace() else ' ' for char in line)\n",
        "    words = cleaned_line.split()\n",
        "\n",
        "    for word in words:\n",
        "      if word in word_frequency:\n",
        "        word_frequency[word] += 1\n",
        "      else:\n",
        "        word_frequency[word] = 1\n",
        "\n",
        "  if not word_frequency:\n",
        "    return \"No valid words found\"\n",
        "\n",
        "  most_frequent_word = ''\n",
        "  max_frequency = 0\n",
        "\n",
        "  for word, frequency in word_frequency.items():\n",
        "    if frequency > max_frequency:\n",
        "      most_frequent_word = word\n",
        "      max_frequency = frequency\n",
        "\n",
        "  return most_frequent_word\n",
        "\n",
        "#Input\n",
        "lines = [\n",
        "    \"The quick brown fox jumps over the lazy dog.\",\n",
        "    \"The quick brown fox is quick.\",\n",
        "    \"Lazy dogs are not quick.\"\n",
        "]\n",
        "\n",
        "get_most_frequent_word(lines)\n",
        "\n",
        "\n"
      ],
      "metadata": {
        "id": "HOGYyiiODbTU"
      },
      "execution_count": null,
      "outputs": []
    },
    {
      "cell_type": "code",
      "source": [
        "# (1) factors: accept a positive integer n as argument. Return the set of all factors of n.\n",
        "\n",
        "def factors(n):\n",
        "  if n <=0:\n",
        "    return \"Invalid Input\"\n",
        "\n",
        "  factor_set = set()\n",
        "  for i in range(1, n+1):\n",
        "    if n % i == 0:\n",
        "      factor_set.add(i)\n",
        "\n",
        "  return factor_set\n",
        "\n",
        "#factors(10)\n",
        "\n",
        "# (2) common_factors: accept two positive integers a and b as arguments.\n",
        "# Return the set of common factors of the two numbers.\n",
        "# This function must make use of factors.\n",
        "\n",
        "def common_factors(a, b):\n",
        "  factors_a = factors(a)\n",
        "  factors_b = factors(b)\n",
        "\n",
        "  return factors_a.intersection(factors_b)\n",
        "\n",
        "#common_factors(5, 10)\n",
        "\n",
        "'''(3) factors_upto: accept a positive integer n as argument.\n",
        "Return a dict D, whose keys are integers and values are sets.\n",
        "Each integer in the range [1,n], endpoints inclusive, is a key of D.\n",
        "The value corresponding to a key, is the set of all factors of key.\n",
        "This function must make use of factors.'''\n",
        "\n",
        "def factors_upto(n):\n",
        "  factors_dict = {}\n",
        "  for i in range(1, n+1):\n",
        "    factors_dict[i] = factors(i)\n",
        "\n",
        "  return factors_dict\n",
        "\n",
        "\n",
        "factors_upto(10)\n",
        "\n",
        "\n"
      ],
      "metadata": {
        "id": "FFDpgrV4Nh4-"
      },
      "execution_count": null,
      "outputs": []
    },
    {
      "cell_type": "markdown",
      "source": [
        "# Week 2 - L2\n",
        "\n",
        "20 August 2024"
      ],
      "metadata": {
        "id": "pTOEkV30MvsR"
      }
    },
    {
      "cell_type": "code",
      "source": [
        "# Encryption function for Vigenere Cypher\n",
        "# Takes Plaintext and Key as input, and returns encrypted text as output\n",
        "#plaintext = \"HELLO WORLD\"\n",
        "#key = \"KEY\"\n",
        "#encrypted = \"RIJVS UYVJN\"\n",
        "def vigenere_encrypt(plaintext: str, key: str) -> str:\n",
        "  key = key.upper()\n",
        "  plaintext = plaintext.upper()\n",
        "\n",
        "  key_length = len(key)\n",
        "  ciphertext = []\n",
        "\n",
        "  key_index = 0\n",
        "  for char in plaintext:\n",
        "    if char.isalpha():\n",
        "      #Perform encryption\n",
        "      shift = ord(key[key_index % key_length]) - ord('A')\n",
        "      encrypted_char = chr((ord(char) - ord('A') + shift) % 26 + ord('A'))\n",
        "      ciphertext.append(encrypted_char)\n",
        "      key_index += 1\n",
        "    else:\n",
        "      ciphertext.append(char)\n",
        "\n",
        "  return ''.join(ciphertext)\n",
        "\n",
        "vigenere_encrypt('HELLO WORLD','KEY')"
      ],
      "metadata": {
        "id": "D5_KxVmdM-Z3"
      },
      "execution_count": null,
      "outputs": []
    },
    {
      "cell_type": "code",
      "source": [
        "ord('H')\n",
        "chr(82)"
      ],
      "metadata": {
        "id": "92n0_L3qZu6i"
      },
      "execution_count": null,
      "outputs": []
    },
    {
      "cell_type": "code",
      "source": [
        "def vigenere_decrypt(ciphertext: str, key: str) -> str:\n",
        "  key = key.upper()\n",
        "  ciphertext = ciphertext.upper()\n",
        "\n",
        "  key_length = len(key)\n",
        "  plaintext = []\n",
        "\n",
        "  key_index = 0\n",
        "  for char in ciphertext:\n",
        "    if char.isalpha():\n",
        "      #Perform encryption\n",
        "      shift = ord(key[key_index % key_length]) - ord('A')\n",
        "      decrypted_char = chr((ord(char) - ord('A') - shift) % 26 + ord('A'))\n",
        "      plaintext.append(decrypted_char)\n",
        "      key_index += 1\n",
        "    else:\n",
        "      plaintext.append(char)\n",
        "\n",
        "  return ''.join(plaintext)\n",
        "\n",
        "vigenere_decrypt('RIJVS UYVJN','KEY')"
      ],
      "metadata": {
        "id": "m3BAHR8rYpOL"
      },
      "execution_count": null,
      "outputs": []
    },
    {
      "cell_type": "markdown",
      "source": [
        "# Week 3 - List, Tuple, Dictionary\n",
        "\n",
        "27 August 2024"
      ],
      "metadata": {
        "id": "2CUWFoRoXMy2"
      }
    },
    {
      "cell_type": "code",
      "source": [
        "# Lists\n",
        "\n",
        "# Collection of any datatype\n",
        "\n",
        "L = [1, 2, 3]\n",
        "\n",
        "#print(type(L))\n",
        "\n",
        "# Sequential datatype\n",
        "\n",
        "# Mutable datatype\n",
        "\n",
        "#L[0] = 100\n",
        "\n",
        "#print(L)\n",
        "\n",
        "len(L)\n",
        "\n",
        "M = [4, 5, 6]\n",
        "\n",
        "L1 = L + M\n",
        "\n",
        "#print(L1)\n",
        "#L1[1:3]\n",
        "\n",
        "# Insert, Delete ?\n",
        "\n",
        "L1.append(50)\n",
        "\n",
        "print(L1)\n",
        "\n",
        "L1.insert(2, 100)\n",
        "\n",
        "print(L1)\n",
        "\n",
        "# delete based on position\n",
        "\n",
        "# L1.pop(2)\n",
        "\n",
        "# print(L1)\n",
        "\n",
        "# L1.pop()\n",
        "\n",
        "# print(L1)\n",
        "\n",
        "# delete based on value\n",
        "\n",
        "L1.remove(100)\n",
        "\n",
        "print(L1)\n",
        "\n",
        "\n",
        "\n",
        "\n"
      ],
      "metadata": {
        "id": "lk7yp91FPFOw"
      },
      "execution_count": null,
      "outputs": []
    },
    {
      "cell_type": "code",
      "source": [
        "L = [9, 2, 4, 1, 5]\n",
        "\n",
        "# in-place operations - modified in the same location\n",
        "\n",
        "L.sort()\n",
        "\n",
        "print(L)\n",
        "\n",
        "L.reverse()\n",
        "\n",
        "print(L)\n"
      ],
      "metadata": {
        "id": "rmIoc__TVSJ1"
      },
      "execution_count": null,
      "outputs": []
    },
    {
      "cell_type": "code",
      "source": [
        "# append vs extend\n",
        "\n",
        "L = [1, 2, 3]\n",
        "\n",
        "M = [4, 5]\n",
        "\n",
        "# L.append(M)\n",
        "\n",
        "# print(L)\n",
        "\n",
        "# print(len(L))\n",
        "\n",
        "# L.extend(M)\n",
        "\n",
        "# print(L)\n",
        "\n",
        "# print(len(L))\n",
        "\n",
        "L.extend('abc')\n",
        "\n",
        "print(L)\n",
        "\n",
        "\n",
        "\n"
      ],
      "metadata": {
        "id": "-5xYPEmqVwL_"
      },
      "execution_count": null,
      "outputs": []
    },
    {
      "cell_type": "code",
      "source": [
        "# List comprehension\n",
        "\n",
        "# L = [i for i in range(10)]\n",
        "\n",
        "# print(L)\n",
        "\n",
        "# L = [i for i in range(10) if i%2 == 0 and i > 5]\n",
        "\n",
        "# print(L)\n",
        "\n",
        "L = [i for i in range(10)]\n",
        "\n",
        "print(L)\n",
        "\n",
        "# Traverse through list\n",
        "\n",
        "# using index\n",
        "\n",
        "# for i in range(len(L)):\n",
        "#   print(L[i])\n",
        "\n",
        "# using values\n",
        "\n",
        "for val in L:\n",
        "  print(val)"
      ],
      "metadata": {
        "id": "HB0gVgT0Wi91"
      },
      "execution_count": null,
      "outputs": []
    },
    {
      "cell_type": "code",
      "source": [
        "# Tuple\n",
        "\n",
        "# T = (1, 2, 3, 4, 5)\n",
        "\n",
        "# print(type(T))\n",
        "\n",
        "# tuple is immutable\n",
        "#T[0] = 100\n",
        "\n",
        "# T = (100,)\n",
        "\n",
        "# print(type(T))\n",
        "\n"
      ],
      "metadata": {
        "id": "Zpl7VEs-Ydqr"
      },
      "execution_count": null,
      "outputs": []
    },
    {
      "cell_type": "code",
      "source": [
        "# Dictionary\n",
        "\n",
        "# Keys in a dictionary must be of immutable datatype\n",
        "\n",
        "# values can be mutable or immutable\n",
        "\n",
        "# Dictionary = {(key1, value1), (key2, value2), ... }\n",
        "\n",
        "D = {'a':1, 'b':2, 'c':3}\n",
        "\n",
        "# print(type(D))\n",
        "\n",
        "# print(D)\n",
        "\n",
        "# Dictionary - index is the key\n",
        "\n",
        "# print(D['b'])\n",
        "\n",
        "# Dictionary - mutable\n",
        "\n",
        "# D['a'] = 100\n",
        "\n",
        "# print(D)\n",
        "\n",
        "# D['d'] = 4\n",
        "\n",
        "# print(D)\n",
        "\n",
        "# del(D['a'])\n",
        "\n",
        "# print(D)\n",
        "\n",
        "# for key in D:\n",
        "#   print(key, D[key])\n",
        "\n",
        "print(list(D.keys()))\n",
        "\n",
        "print(list(D.values()))\n",
        "\n",
        "print(list(D.items()))\n",
        "\n",
        "\n",
        "print(D.get('a'))\n",
        "\n"
      ],
      "metadata": {
        "id": "Ig3cL5MZZ4hm"
      },
      "execution_count": null,
      "outputs": []
    },
    {
      "cell_type": "markdown",
      "source": [
        "# Week 3 - L2 problems\n",
        "\n",
        "28 August 2024"
      ],
      "metadata": {
        "id": "g3dcQJfvXf4c"
      }
    },
    {
      "cell_type": "code",
      "source": [
        "'''Magical Words\n",
        "\n",
        "Functionality:\n",
        "\n",
        "1. Find the Word with the Most Vowels:\n",
        "\n",
        "Count the number of vowels (a, e, i, o, u) in each word.\n",
        "Print the word(s) with the largest number of vowels.\n",
        "If multiple words have the same number of vowels, print the word\n",
        "which has lower precedence when compared lexicographically.\n",
        "\n",
        "2. Identify Palindrome Words:\n",
        "Find and print any words that are palindromes (words that read the same forward and backward).\n",
        "\n",
        "3. Count Duplicate Words:\n",
        "Count and list the number of case-insensitive duplicate words.\n",
        "\n",
        "Input: A list of words.\n",
        "\n",
        "Output: Display the word with the most vowels, any palindrome words, and any duplicate words.\n",
        "\n",
        "'''\n"
      ],
      "metadata": {
        "id": "Jcmy0hncaCA0"
      },
      "execution_count": null,
      "outputs": []
    },
    {
      "cell_type": "code",
      "source": [
        "def magical_words_vowels(word_list):\n",
        "  vowels = 'aeiou'\n",
        "  max_vowels = 0\n",
        "  max_vowel_word = ''\n",
        "\n",
        "  # Loop 1 to go through each word in the list\n",
        "  for word in word_list:\n",
        "    count = 0\n",
        "    # Loop 2 to count number of vowels in the word\n",
        "    for c in word.lower():\n",
        "      if c in vowels:\n",
        "        count += 1\n",
        "    # end Loop 2\n",
        "\n",
        "    if (count > max_vowels) or (count == max_vowels and word < max_vowel_word):\n",
        "      max_vowels = count\n",
        "      max_vowel_word = word\n",
        "    #end if case\n",
        "  # end Loop 1\n",
        "\n",
        "  return max_vowel_word\n",
        "\n",
        "# End funciton magical_words\n",
        "\n",
        "L = [\"california\", \"florida\", \"atlanta\", \"sweden\", \"delhi\", \"alavala\", \"CALIFORNIA\"]\n",
        "\n",
        "magical_words_vowels(L)"
      ],
      "metadata": {
        "id": "TMHcuOsQbgYw"
      },
      "execution_count": null,
      "outputs": []
    },
    {
      "cell_type": "code",
      "source": [
        "# MOM, Racecar, MALAYALAM\n",
        "\n",
        "# \"A Man, A Plan, A Canal, Panama!\"\n",
        "\n",
        "palindromes = []\n",
        "\n",
        "def magical_words_palindrome(word_list):\n",
        "  for word in word_list:\n",
        "    lower_word = word.lower()\n",
        "    if lower_word == lower_word[::-1]:\n",
        "      palindromes.append(word)\n",
        "\n",
        "  return palindromes\n",
        "\n",
        "L = [\"california\", \"florida\", \"atlanta\", \"sweden\", \"delhi\", \"alavala\", \"CALIFORNIA\", 'madam', 'malayalam']\n",
        "\n",
        "palindromes_res = magical_words_palindrome(L)\n",
        "\n",
        "if palindromes_res:\n",
        "  print(','.join(palindromes_res))\n",
        "else:\n",
        "  print('None')\n"
      ],
      "metadata": {
        "id": "EB-QX3ILfR9P"
      },
      "execution_count": null,
      "outputs": []
    },
    {
      "cell_type": "code",
      "source": [
        "def magical_words_duplicates(word_list):\n",
        "  unique_words = []\n",
        "  duplicates = []\n",
        "\n",
        "  for word in word_list:\n",
        "    lower_word = word.lower()\n",
        "    if lower_word in unique_words:\n",
        "      if lower_word not in duplicates:\n",
        "        duplicates.append(lower_word)\n",
        "    unique_words.append(lower_word)\n",
        "\n",
        "  return duplicates\n",
        "\n",
        "L = [\"california\", \"florida\", \"atlanta\", \"sweden\", \"delhi\", \"alavala\", \"CALIFORNIA\"]\n",
        "\n",
        "magical_words_duplicates(L)"
      ],
      "metadata": {
        "id": "wvLZc3C9j2xD"
      },
      "execution_count": null,
      "outputs": []
    },
    {
      "cell_type": "code",
      "source": [
        "'''Question 2:\n",
        "You are given an encrypted message and a key for a simple substitution cipher.\n",
        "The key maps letters from the alphabet as follows:\n",
        "\n",
        "Key Mapping:\n",
        "CDEFGHIJKLMNOPQRSTUVWXYZAB\n",
        "This means that each letter in the alphabet is shifted by 2 positions (e.g., A → C, B → D, C → E, etc.).\n",
        "\n",
        "Encrypted Message:\n",
        "\n",
        "VJGTG GZKUVGF C MKPI KP VJG NCPF QH PWODGTKC YJQ YCU HCOQWU HQT JKU OCVJGOCVKECN UMKNNU\n",
        "Tasks:\n",
        "\n",
        "Decode the Message:\n",
        "Use the provided key mapping to decode the encrypted message.\n",
        "What is the decrypted message?\n",
        "'''"
      ],
      "metadata": {
        "id": "h8c3JwjYlKF4"
      },
      "execution_count": null,
      "outputs": []
    },
    {
      "cell_type": "code",
      "source": [
        "def decode_message(ciphertext, key):\n",
        "  alphabet = 'ABCDEFGHIJKLMNOPQRSTUVWXYZ'\n",
        "\n",
        "  key_mapping = {key[i]:alphabet[i] for i in range(len(alphabet))}\n",
        "\n",
        "  decoded_message = ''\n",
        "  for c in ciphertext:\n",
        "    if c in key_mapping:\n",
        "      decoded_message += key_mapping[c]\n",
        "    else:\n",
        "      decoded_message += c\n",
        "\n",
        "  return decoded_message\n",
        "\n",
        "\n",
        "decode_message('VJGTG GZKUVGF C MKPI KP VJG NCPF QH PWODGTKC YJQ YCU HCOQWU HQT JKU OCVJGOCVKECN UMKNNU','CDEFGHIJKLMNOPQRSTUVWXYZAB')\n",
        "\n"
      ],
      "metadata": {
        "id": "X5aaUbhaliZi"
      },
      "execution_count": null,
      "outputs": []
    },
    {
      "cell_type": "markdown",
      "source": [
        "# Week 4 - L1 problems\n",
        "\n",
        "02 September 2024"
      ],
      "metadata": {
        "id": "H5ZL1J1MDLTX"
      }
    },
    {
      "cell_type": "code",
      "source": [
        "'''\n",
        "Question 1: Custom Sorting by Frequency\n",
        "Question:\n",
        "Given a list of integers, sort the list such that the integers appear in increasing order of their frequency.\n",
        "If two numbers have the same frequency, the one which appeared first in the original list should come first.\n",
        "\n",
        "Explanation/Description:\n",
        "You need to sort a list of integers based on how frequently each number appears.\n",
        "Numbers that appear less frequently should come first.\n",
        "If two numbers have the same frequency, their order in the original list should be preserved.\n",
        "The task requires implementing custom sorting logic without using any external libraries or the built-in sort() function.\n",
        "\n",
        "Input Format:\n",
        "\n",
        "The first line contains an integer n, the number of elements in the list.\n",
        "The second line contains n space-separated integers representing the list.\n",
        "\n",
        "Output Format:\n",
        "\n",
        "A single line containing the sorted list, with elements separated by spaces\n",
        "'''\n",
        "\n",
        "# A function to sort numbers based on its frequency\n",
        "def freq_sort(n, nums):\n",
        "  freq_map = {}\n",
        "\n",
        "  # Compute frequency of each element\n",
        "  for num in nums:\n",
        "    if num in freq_map:\n",
        "      freq_map[num] += 1\n",
        "    else:\n",
        "      freq_map[num] = 1\n",
        "\n",
        "  # Sorting part\n",
        "  for i in range(n):\n",
        "    for j in range(n-i-1):\n",
        "      if (freq_map[nums[j]] > freq_map[nums[j+1]]) or (freq_map[nums[j]] == freq_map[nums[j+1]] and nums.index(nums[j]) > nums.index(nums[j+1])):\n",
        "        nums[j] , nums[j+1] = nums[j+1], nums[j]\n",
        "\n",
        "  return nums\n",
        "\n",
        "# input\n",
        "\n",
        "n = int(input())\n",
        "# 3 5 1 4 2\n",
        "\n",
        "nums = list(map(int, input().split()))\n",
        "\n",
        "# s = input()\n",
        "\n",
        "# s = \"3 5 1 4 2\"\n",
        "\n",
        "# L = s.split()\n",
        "\n",
        "# L = ['3', '5', '1', '4', '2']\n",
        "\n",
        "# list(map(int, L))\n",
        "\n",
        "# [3, 5, 1, 4, 2]\n",
        "\n",
        "\n",
        "freq_sort(n, nums)\n",
        "\n",
        "\n",
        "\n",
        "\n",
        "\n",
        "\n",
        "\n",
        "\n"
      ],
      "metadata": {
        "colab": {
          "base_uri": "https://localhost:8080/"
        },
        "id": "8zkq4SCmDP8A",
        "outputId": "ac95594b-2d2e-4f5a-f20e-39eb1505e209"
      },
      "execution_count": null,
      "outputs": [
        {
          "name": "stdout",
          "output_type": "stream",
          "text": [
            "6\n",
            "4 5 6 5 4 3\n"
          ]
        },
        {
          "output_type": "execute_result",
          "data": {
            "text/plain": [
              "[6, 3, 4, 4, 5, 5]"
            ]
          },
          "metadata": {},
          "execution_count": 1
        }
      ]
    },
    {
      "cell_type": "code",
      "source": [
        "'''\n",
        "Question 2: Kth Smallest Element with Restrictions\n",
        "Question:\n",
        "Given an unsorted list of integers, find the kth smallest element without using the sort() function.\n",
        "Implement the selection algorithm to achieve this.\n",
        "\n",
        "Explanation/Description:\n",
        "The problem is to find the kth smallest element from an unsorted list of integers.\n",
        "You are expected to solve this problem without using Python's sort() function.\n",
        "Instead, you can implement a simple selection algorithm that repeatedly finds the minimum element.\n",
        "\n",
        "Input Format:\n",
        "\n",
        "The first line contains an integer n, the number of elements in the list.\n",
        "The second line contains n space-separated integers representing the list.\n",
        "The third line contains an integer k, representing the position of the smallest element to find.\n",
        "Output Format:\n",
        "\n",
        "A single integer representing the kth smallest element.\n",
        "'''\n",
        "\n",
        "\n"
      ],
      "metadata": {
        "id": "wzBZTsV-DqLN"
      },
      "execution_count": null,
      "outputs": []
    },
    {
      "cell_type": "markdown",
      "source": [
        "# Week 4 - L2\n",
        "\n",
        "03 September 2024"
      ],
      "metadata": {
        "id": "McrPaJxqQEUI"
      }
    },
    {
      "cell_type": "code",
      "source": [
        "'''\n",
        "Question 1: Hybrid Sorting Challenge\n",
        "Question:\n",
        "You are given an unsorted array of integers.\n",
        "Your task is to sort this array using a combination of Selection Sort and Insertion Sort.\n",
        "The array should first be partially sorted using Selection Sort until the first k elements are in the correct order.\n",
        "After that, the rest of the array should be sorted using Insertion Sort.\n",
        "Your goal is to minimize the number of comparisons made during the sorting process.\n",
        "\n",
        "Explanation/Description:\n",
        "The challenge is to determine the optimal value of k such that the overall number of comparisons is minimized.\n",
        "Selection Sort is known for reducing the number of comparisons in the first k elements,\n",
        "while Insertion Sort is efficient for partially sorted arrays.\n",
        "You need to implement both sorting algorithms and determine the best value of k\n",
        "dynamically as part of your solution.\n",
        "'''\n",
        "#Reference Selection and Insertion sort with n elements\n",
        "# def selection_sort(arr, n):\n",
        "#   for i in range(n):\n",
        "#     min_indx = i\n",
        "#     for j in range(i+1,n):\n",
        "#       if arr[j] < arr[min_indx]:\n",
        "#         min_indx = j\n",
        "#     arr[i], arr[min_indx] = arr[min_indx], arr[i]\n",
        "\n",
        "# def insertion_sort(arr, n):\n",
        "#   for i in range(n):\n",
        "#     key = arr[i]\n",
        "#     j = i-1\n",
        "\n",
        "#     while j>=0 and key < a[j]:\n",
        "#       arr[j+1] = arr[j]\n",
        "#       j -= 1\n",
        "\n",
        "#     arr[j+1] = key\n",
        "\n",
        "def selection_sort(arr, k):\n",
        "  for i in range(k):\n",
        "    min_indx = i\n",
        "    for j in range(i+1,len(arr)):\n",
        "      if arr[j] < arr[min_indx]:\n",
        "        min_indx = j\n",
        "    arr[i], arr[min_indx] = arr[min_indx], arr[i]\n",
        "\n",
        "def insertion_sort(arr, start):\n",
        "  for i in range(start, len(arr)):\n",
        "    key = arr[i]\n",
        "    j = i-1\n",
        "\n",
        "    while j>=start and key < arr[j]:\n",
        "      arr[j+1] = arr[j]\n",
        "      j -= 1\n",
        "\n",
        "    arr[j+1] = key\n",
        "\n",
        "def hybrid_sort(arr):\n",
        "  n = len(arr)\n",
        "  min_comparisons = float('inf')\n",
        "  best_k = 0\n",
        "  for k in range(1,n):\n",
        "    comparisons = k * (n-k) + n * (n-1) //2 #Estimated comparisons\n",
        "    if comparisons < min_comparisons:\n",
        "      best_k = k\n",
        "  print(\"Best k\", best_k)\n",
        "\n",
        "  selection_sort(arr,best_k)\n",
        "  insertion_sort(arr,best_k)\n",
        "\n",
        "\n",
        "arr = [64, 25, 12, 22, 11, 90, 47, 31]\n",
        "hybrid_sort(arr)\n",
        "print(arr)\n",
        "\n",
        "\n",
        "\n",
        "\n",
        "\n",
        "\n",
        "\n",
        "\n",
        "\n",
        "\n"
      ],
      "metadata": {
        "colab": {
          "base_uri": "https://localhost:8080/"
        },
        "id": "CrJKmubRQJeN",
        "outputId": "7c53ceac-b9a7-4f50-b8b7-85066323e8a1"
      },
      "execution_count": null,
      "outputs": [
        {
          "output_type": "stream",
          "name": "stdout",
          "text": [
            "Best k 7\n",
            "[11, 12, 22, 25, 31, 47, 64, 90]\n"
          ]
        }
      ]
    }
  ]
}